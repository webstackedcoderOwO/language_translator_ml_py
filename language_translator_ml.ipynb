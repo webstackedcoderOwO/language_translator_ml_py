{
  "nbformat": 4,
  "nbformat_minor": 0,
  "metadata": {
    "colab": {
      "name": "language_translator_ml.ipynb",
      "provenance": []
    },
    "kernelspec": {
      "name": "python3",
      "display_name": "Python 3"
    },
    "language_info": {
      "name": "python"
    }
  },
  "cells": [
    {
      "cell_type": "markdown",
      "source": [
        "Language Translator App (**IBM**)(**Machine Learning**)\n",
        "Translate any text in a particular language to another language with the help of (**IBM Cloud Service**)\n",
        "Create a web UI using (**streamlit**)-->Send textual data collected from UI to the IBM Cloud Service --> The textual data is translated using (**IBM Language Translator Service**) --> Translated Text is send in the \"json\" format --> Translated text will be displayed on the UI.\n"
      ],
      "metadata": {
        "id": "q7ZzKRDjvEI_"
      }
    },
    {
      "cell_type": "markdown",
      "source": [
        "### Installing IBM Watson using pip install"
      ],
      "metadata": {
        "id": "tUnOiC0_1WB5"
      }
    },
    {
      "cell_type": "code",
      "source": [
        "!pip install ibm_watson"
      ],
      "metadata": {
        "colab": {
          "base_uri": "https://localhost:8080/"
        },
        "id": "wcFlFKPo08Tp",
        "outputId": "e855b293-3f78-400a-c418-be0880eabc7d"
      },
      "execution_count": 1,
      "outputs": [
        {
          "output_type": "stream",
          "name": "stdout",
          "text": [
            "Looking in indexes: https://pypi.org/simple, https://us-python.pkg.dev/colab-wheels/public/simple/\n",
            "Collecting ibm_watson\n",
            "  Downloading ibm-watson-6.0.0.tar.gz (338 kB)\n",
            "\u001b[K     |████████████████████████████████| 338 kB 6.3 MB/s \n",
            "\u001b[?25h  Installing build dependencies ... \u001b[?25l\u001b[?25hdone\n",
            "  Getting requirements to build wheel ... \u001b[?25l\u001b[?25hdone\n",
            "    Preparing wheel metadata ... \u001b[?25l\u001b[?25hdone\n",
            "Collecting websocket-client==1.1.0\n",
            "  Downloading websocket_client-1.1.0-py2.py3-none-any.whl (68 kB)\n",
            "\u001b[K     |████████████████████████████████| 68 kB 6.6 MB/s \n",
            "\u001b[?25hRequirement already satisfied: requests<3.0,>=2.0 in /usr/local/lib/python3.7/dist-packages (from ibm_watson) (2.23.0)\n",
            "Requirement already satisfied: python-dateutil>=2.5.3 in /usr/local/lib/python3.7/dist-packages (from ibm_watson) (2.8.2)\n",
            "Collecting ibm-cloud-sdk-core==3.*,>=3.3.6\n",
            "  Downloading ibm-cloud-sdk-core-3.15.3.tar.gz (50 kB)\n",
            "\u001b[K     |████████████████████████████████| 50 kB 5.6 MB/s \n",
            "\u001b[?25hCollecting requests<3.0,>=2.0\n",
            "  Downloading requests-2.28.1-py3-none-any.whl (62 kB)\n",
            "\u001b[K     |████████████████████████████████| 62 kB 531 kB/s \n",
            "\u001b[?25hCollecting urllib3<2.0.0,>=1.26.0\n",
            "  Downloading urllib3-1.26.10-py2.py3-none-any.whl (139 kB)\n",
            "\u001b[K     |████████████████████████████████| 139 kB 39.5 MB/s \n",
            "\u001b[?25hCollecting PyJWT<3.0.0,>=2.4.0\n",
            "  Downloading PyJWT-2.4.0-py3-none-any.whl (18 kB)\n",
            "Requirement already satisfied: six>=1.5 in /usr/local/lib/python3.7/dist-packages (from python-dateutil>=2.5.3->ibm_watson) (1.15.0)\n",
            "Requirement already satisfied: charset-normalizer<3,>=2 in /usr/local/lib/python3.7/dist-packages (from requests<3.0,>=2.0->ibm_watson) (2.1.0)\n",
            "Requirement already satisfied: idna<4,>=2.5 in /usr/local/lib/python3.7/dist-packages (from requests<3.0,>=2.0->ibm_watson) (2.10)\n",
            "Requirement already satisfied: certifi>=2017.4.17 in /usr/local/lib/python3.7/dist-packages (from requests<3.0,>=2.0->ibm_watson) (2022.6.15)\n",
            "Building wheels for collected packages: ibm-watson, ibm-cloud-sdk-core\n",
            "  Building wheel for ibm-watson (PEP 517) ... \u001b[?25l\u001b[?25hdone\n",
            "  Created wheel for ibm-watson: filename=ibm_watson-6.0.0-py3-none-any.whl size=336807 sha256=762f30e7d99b965db44c9639af63f764f60b85d6bdad36e062492a21d44c39ce\n",
            "  Stored in directory: /root/.cache/pip/wheels/31/de/dd/1002a4fdfeed1322ccffb20b0a12e00afbeeee8df4a86769d7\n",
            "  Building wheel for ibm-cloud-sdk-core (setup.py) ... \u001b[?25l\u001b[?25hdone\n",
            "  Created wheel for ibm-cloud-sdk-core: filename=ibm_cloud_sdk_core-3.15.3-py3-none-any.whl size=83622 sha256=368233169c86e87186111a8f1fe39a7093c3079839202f9239aa23dc11b7a18c\n",
            "  Stored in directory: /root/.cache/pip/wheels/97/91/e3/dc6ba083b6ac0baf8f6045db52e6eb222d3904b7b2a8411085\n",
            "Successfully built ibm-watson ibm-cloud-sdk-core\n",
            "Installing collected packages: urllib3, requests, PyJWT, websocket-client, ibm-cloud-sdk-core, ibm-watson\n",
            "  Attempting uninstall: urllib3\n",
            "    Found existing installation: urllib3 1.24.3\n",
            "    Uninstalling urllib3-1.24.3:\n",
            "      Successfully uninstalled urllib3-1.24.3\n",
            "  Attempting uninstall: requests\n",
            "    Found existing installation: requests 2.23.0\n",
            "    Uninstalling requests-2.23.0:\n",
            "      Successfully uninstalled requests-2.23.0\n",
            "\u001b[31mERROR: pip's dependency resolver does not currently take into account all the packages that are installed. This behaviour is the source of the following dependency conflicts.\n",
            "google-colab 1.0.0 requires requests~=2.23.0, but you have requests 2.28.1 which is incompatible.\n",
            "datascience 0.10.6 requires folium==0.2.1, but you have folium 0.8.3 which is incompatible.\u001b[0m\n",
            "Successfully installed PyJWT-2.4.0 ibm-cloud-sdk-core-3.15.3 ibm-watson-6.0.0 requests-2.28.1 urllib3-1.26.10 websocket-client-1.1.0\n"
          ]
        }
      ]
    },
    {
      "cell_type": "markdown",
      "source": [
        "###Authenticate"
      ],
      "metadata": {
        "id": "VC6pNqI81gJ_"
      }
    },
    {
      "cell_type": "code",
      "source": [
        "API_key = 'H8XyHNnBKUu4GwWyGy6UogubyeYlWl2Bo2jlfsKvW7wh'\n",
        "url = 'https://api.eu-gb.language-translator.watson.cloud.ibm.com/instances/bd794a73-ab70-49c6-a53a-bcc7c0c4101f'\n"
      ],
      "metadata": {
        "id": "HOqkj5wM0irQ"
      },
      "execution_count": 2,
      "outputs": []
    },
    {
      "cell_type": "code",
      "source": [
        "##import dependencies\n",
        "##this is language translator\n",
        "from ibm_watson import LanguageTranslatorV3\n",
        "##This is the authentication service\n",
        "from ibm_cloud_sdk_core.authenticators import IAMAuthenticator"
      ],
      "metadata": {
        "id": "U2Y1bqgi2Ntv"
      },
      "execution_count": 3,
      "outputs": []
    },
    {
      "cell_type": "code",
      "source": [
        "\n",
        "##authenticating the api key\n",
        " \n",
        "authenticator = IAMAuthenticator(apikey=API_key)\n",
        "\n",
        "langtranslator = LanguageTranslatorV3(version='2018-05-01',\n",
        "                                      authenticator=authenticator)\n",
        "\n",
        "##establishing the connection with service\n",
        "\n",
        "langtranslator.set_service_url(url)\n"
      ],
      "metadata": {
        "id": "ZdNExP2T3H1O"
      },
      "execution_count": 6,
      "outputs": []
    },
    {
      "cell_type": "markdown",
      "source": [
        "###Translate\n",
        "\n",
        "Now we have refer to ```Language Translator``` documentation to refer which language we need to translate for ```Ex```For converting english to hindi we need to use the service ```en-hi```."
      ],
      "metadata": {
        "id": "gDkxzGch4Vcw"
      }
    },
    {
      "cell_type": "code",
      "source": [
        "translation = langtranslator.translate(text='Hello World', model_id='en-hi')\n"
      ],
      "metadata": {
        "id": "AYj_6xIZEOcH"
      },
      "execution_count": 7,
      "outputs": []
    },
    {
      "cell_type": "code",
      "source": [
        "translation.get_result()\n"
      ],
      "metadata": {
        "colab": {
          "base_uri": "https://localhost:8080/"
        },
        "id": "cacfySV84YUP",
        "outputId": "dfdcef11-fd2b-473e-fb45-75e615a9c143"
      },
      "execution_count": 8,
      "outputs": [
        {
          "output_type": "execute_result",
          "data": {
            "text/plain": [
              "{'character_count': 11,\n",
              " 'translations': [{'translation': 'हेलो वर्ल्ड'}],\n",
              " 'word_count': 2}"
            ]
          },
          "metadata": {},
          "execution_count": 8
        }
      ]
    },
    {
      "cell_type": "code",
      "source": [
        "\n",
        "\n",
        "translation = langtranslator.translate(text='Hello World', model_id='en-hi')"
      ],
      "metadata": {
        "id": "l7Apuct2EoLY"
      },
      "execution_count": 12,
      "outputs": []
    },
    {
      "cell_type": "code",
      "source": [
        "translation.get_result()"
      ],
      "metadata": {
        "colab": {
          "base_uri": "https://localhost:8080/"
        },
        "id": "oR-xMwQxFo7G",
        "outputId": "f00d8b49-a19c-412e-b1e0-56a389825033"
      },
      "execution_count": 13,
      "outputs": [
        {
          "output_type": "execute_result",
          "data": {
            "text/plain": [
              "{'character_count': 11,\n",
              " 'translations': [{'translation': 'हेलो वर्ल्ड'}],\n",
              " 'word_count': 2}"
            ]
          },
          "metadata": {},
          "execution_count": 13
        }
      ]
    },
    {
      "cell_type": "code",
      "source": [
        "## Translating Bigger Text\n",
        "\n",
        "translation = langtranslator.translate(text='My parents believe that I am a bright child with good skills and that I am capable of doing well in my academics as they feel that I am an active child. They also believe I can independently handle a difficult task and see that it is completed. They also feel that I am a friendly child.', model_id='en-hi')\n",
        "\n"
      ],
      "metadata": {
        "id": "pr5M0U6YF4nl"
      },
      "execution_count": 14,
      "outputs": []
    },
    {
      "cell_type": "code",
      "source": [
        "translation.get_result()"
      ],
      "metadata": {
        "colab": {
          "base_uri": "https://localhost:8080/"
        },
        "id": "-qd-i6gRGGtN",
        "outputId": "ef383af0-7f3c-480e-d838-29374876005b"
      },
      "execution_count": 15,
      "outputs": [
        {
          "output_type": "execute_result",
          "data": {
            "text/plain": [
              "{'character_count': 287,\n",
              " 'translations': [{'translation': 'मेरे माता-पिता का मानना है कि मैं अच्छे कौशल के साथ एक उज्जवल बच्चा हूं और मैं अपने शिक्षाविदों में अच्छा करने में सक्षम हूं क्योंकि उन्हें लगता है कि मैं एक सक्रिय बच्चा हूं। उनका यह भी मानना है कि मैं स्वतंत्र रूप से एक कठिन कार्य संभाल सकता हूं और यह सुनिश्चित करता हूं कि यह कार्य पूरा हो वे यह भी महसूस करते हैं कि मैं एक दोस्ताना बच्चा हूं.'}],\n",
              " 'word_count': 60}"
            ]
          },
          "metadata": {},
          "execution_count": 15
        }
      ]
    },
    {
      "cell_type": "code",
      "source": [
        "## Translating To Different Language\n",
        "\n",
        "translation = langtranslator.translate(text='My parents believe that I am a bright child with good skills and that I am capable of doing well in my academics as they feel that I am an active child. They also believe I can independently handle a difficult task and see that it is completed. They also feel that I am a friendly child.', model_id='en-fr')\n"
      ],
      "metadata": {
        "id": "N3ifwvZxGzxN"
      },
      "execution_count": 16,
      "outputs": []
    },
    {
      "cell_type": "code",
      "source": [
        "translation.get_result()"
      ],
      "metadata": {
        "colab": {
          "base_uri": "https://localhost:8080/"
        },
        "id": "mfWyIQ9TG8KJ",
        "outputId": "1873b74f-40f3-4558-95f8-64ab116d59c9"
      },
      "execution_count": 17,
      "outputs": [
        {
          "output_type": "execute_result",
          "data": {
            "text/plain": [
              "{'character_count': 287,\n",
              " 'translations': [{'translation': \"Mes parents croient que je suis un enfant brillant avec de bonnes compétences et que je suis capable de bien faire dans mes universitaires, car ils sentent que je suis un enfant actif. Ils croient aussi que je peux gérer de façon indépendante une tâche difficile et voir qu'elle est terminée. Ils pensent aussi que je suis un enfant amical.\"}],\n",
              " 'word_count': 60}"
            ]
          },
          "metadata": {},
          "execution_count": 17
        }
      ]
    },
    {
      "cell_type": "code",
      "source": [
        "## Translating english to Japanese\n",
        "\n",
        "translation = langtranslator.translate(text='My parents believe that I am a bright child with good skills and that I am capable of doing well in my academics as they feel that I am an active child. They also believe I can independently handle a difficult task and see that it is completed. They also feel that I am a friendly child.', model_id='en-ja')\n"
      ],
      "metadata": {
        "id": "Kr54DAD-Hlf0"
      },
      "execution_count": 18,
      "outputs": []
    },
    {
      "cell_type": "code",
      "source": [
        "translation.get_result()"
      ],
      "metadata": {
        "colab": {
          "base_uri": "https://localhost:8080/"
        },
        "id": "8egs4B__Hw0M",
        "outputId": "a01bb74a-726b-4fff-91c7-248e16f5cfd3"
      },
      "execution_count": 19,
      "outputs": [
        {
          "output_type": "execute_result",
          "data": {
            "text/plain": [
              "{'character_count': 287,\n",
              " 'translations': [{'translation': '私の両親は、私が善良な才能を持つ明るい子供だと信じており、私は自分が現役の子供であると感じているので、私は学問の中でうまくやることができると信じています。 また、困難な課題を独自に処理し、完成させることができると信じています。 彼らは私が親しみやすい子供だと感じている。'}],\n",
              " 'word_count': 60}"
            ]
          },
          "metadata": {},
          "execution_count": 19
        }
      ]
    },
    {
      "cell_type": "markdown",
      "source": [
        "### END"
      ],
      "metadata": {
        "id": "PQnJNGigHB7a"
      }
    }
  ]
}